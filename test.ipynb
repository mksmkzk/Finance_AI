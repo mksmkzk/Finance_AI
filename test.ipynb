{
 "cells": [
  {
   "cell_type": "code",
   "execution_count": 1,
   "metadata": {},
   "outputs": [],
   "source": [
    "# Dependencies\n",
    "import numpy as np\n",
    "import pandas as pd\n",
    "import yfinance as yf\n",
    "import talib as ta\n"
   ]
  },
  {
   "cell_type": "code",
   "execution_count": 2,
   "metadata": {},
   "outputs": [],
   "source": [
    "# Function to download stock data from Yahoo Finance\n",
    "def get_data(ticker):\n",
    "    ticker = yf.Ticker(ticker)\n",
    "    data = ticker.history(period= 'max')\n",
    "    data = pd.DataFrame(data)\n",
    "    return data\n"
   ]
  },
  {
   "cell_type": "code",
   "execution_count": 3,
   "metadata": {},
   "outputs": [],
   "source": [
    "# Function to add technical indicators to the data\n",
    "def add_indicators(data):\n",
    "    # Add Bollinger Bands\n",
    "    data['BB_20'] = ta.BBANDS(data['Close'], 20, 2, 2, 0)[0]\n",
    "    data['BB_80'] = ta.BBANDS(data['Close'], 20, 2, 2, 0)[2]\n",
    "    # Add EMA\n",
    "    data['EMA_20'] = ta.EMA(data['Close'], 20)\n",
    "    data['EMA_50'] = ta.EMA(data['Close'], 50)\n",
    "    data['EMA_100'] = ta.EMA(data['Close'], 100)\n",
    "    # Add MACD\n",
    "    data['MACD_12_26'] = ta.MACD(data['Close'], 12, 26, 9)[0]\n",
    "    data['MACD_Signal_9'] = ta.MACD(data['Close'], 12, 26, 9)[1]\n",
    "    data['MACD_Hist_9'] = ta.MACD(data['Close'], 12, 26, 9)[2]\n",
    "    # Add RSI\n",
    "    data['RSI_14'] = ta.RSI(data['Close'], 14)\n",
    "    # Add Stochastic Oscillator\n",
    "    data['Stoch_K'] = ta.STOCH(data['High'], data['Low'], data['Close'])[0]\n",
    "    data['Stoch_D'] = ta.STOCH(data['High'], data['Low'], data['Close'])[1]\n",
    "    # Add Williams %R\n",
    "    data['Williams_R'] = ta.WILLR(data['High'], data['Low'], data['Close'])\n",
    "    # Add Momentum\n",
    "    data['Momentum'] = data['Close'].diff(1)\n",
    "    # Add ADX\n",
    "    data['ADX'] = ta.ADX(data['High'], data['Low'], data['Close'], 14)\n",
    "    # Add CCI\n",
    "    data['CCI'] = ta.CCI(data['High'], data['Low'], data['Close'], 20)\n",
    "\n",
    "    return data"
   ]
  },
  {
   "cell_type": "code",
   "execution_count": null,
   "metadata": {},
   "outputs": [],
   "source": []
  }
 ],
 "metadata": {
  "kernelspec": {
   "display_name": "Python 3.10.1 64-bit",
   "language": "python",
   "name": "python3"
  },
  "language_info": {
   "codemirror_mode": {
    "name": "ipython",
    "version": 3
   },
   "file_extension": ".py",
   "mimetype": "text/x-python",
   "name": "python",
   "nbconvert_exporter": "python",
   "pygments_lexer": "ipython3",
   "version": "3.10.1"
  },
  "orig_nbformat": 4,
  "vscode": {
   "interpreter": {
    "hash": "7b7b420d20f2322f65523a2f8e277c8414018eeb5ae0cd072ccb004c1cae25f0"
   }
  }
 },
 "nbformat": 4,
 "nbformat_minor": 2
}
